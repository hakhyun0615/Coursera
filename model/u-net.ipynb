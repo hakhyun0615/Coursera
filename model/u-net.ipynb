{
 "cells": [
  {
   "cell_type": "markdown",
   "metadata": {},
   "source": [
    "##### U-Net"
   ]
  },
  {
   "cell_type": "markdown",
   "metadata": {},
   "source": [
    "- Image segmentation(predict label for every pixel in an image)\n",
    "<img src=\"../images/image segmentation.png\" style=\"width:500px;height:250;\">\n",
    "- U-Net architecture\n",
    "    <img src=\"../images/unet architecture.png\" style=\"width:700px;height:400;\">\n",
    "    - Fully Convolutional Network(FCN)\n",
    "        - replaces dense layers with a transposed convolution layer that upsamples the feature map back to the size of the original input image since dense layers destroy spatial information"
   ]
  },
  {
   "cell_type": "code",
   "execution_count": null,
   "metadata": {},
   "outputs": [],
   "source": []
  }
 ],
 "metadata": {
  "language_info": {
   "name": "python"
  }
 },
 "nbformat": 4,
 "nbformat_minor": 2
}
