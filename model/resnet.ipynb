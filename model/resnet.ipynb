{
 "cells": [
  {
   "cell_type": "code",
   "execution_count": 1,
   "metadata": {},
   "outputs": [],
   "source": [
    "import tensorflow as tf"
   ]
  },
  {
   "cell_type": "markdown",
   "metadata": {},
   "source": [
    "##### skip connection"
   ]
  },
  {
   "cell_type": "markdown",
   "metadata": {},
   "source": [
    "- help with gradient vanishing problem\n",
    "- identity block\n",
    "    - input dimension = output dimension\n",
    "    <img src=\"../images/identity block.png\" style=\"width:650px;height:150px;\">\n",
    "- convolutional block\n",
    "    - input dimension != output dimension\n",
    "    - shortcut CONV2D reduces the dimension of the input to match up for the addition step\n",
    "    <img src=\"../images/convolutional block.png\" style=\"width:650px;height:150px;\">\n"
   ]
  },
  {
   "cell_type": "code",
   "execution_count": 2,
   "metadata": {},
   "outputs": [],
   "source": [
    "def identity_block(X, f, filters, initializer=tf.keras.initializers.random_uniform):\n",
    "    F1, F2, F3 = filters\n",
    "    \n",
    "    X_shortcut = X\n",
    "    \n",
    "    X = tf.keras.layers.Conv2D(filters=F1, kernel_size=(1, 1), strides=1, padding='valid', kernel_initializer=initializer(seed=0))(X)\n",
    "    X = tf.keras.layers.BatchNormalization()(X) # Default axis\n",
    "    X = tf.keras.layers.Activation('relu')(X)\n",
    "    \n",
    "    X = tf.keras.layers.Conv2D(filters=F2, kernel_size=(f, f), strides=1, padding='same', kernel_initializer=initializer(seed=0))(X)\n",
    "    X = tf.keras.layers.BatchNormalization()(X) \n",
    "    X = tf.keras.layers.Activation('relu')(X) \n",
    "    \n",
    "    X = tf.keras.layers.Conv2D(filters=F3, kernel_size=(1, 1), strides=1, padding='valid', kernel_initializer=initializer(seed=0))(X)\n",
    "    X = tf.keras.layers.BatchNormalization()(X) \n",
    "    \n",
    "    X = tf.keras.layers.Add()([X, X_shortcut])\n",
    "    X = tf.keras.layers.Activation('relu')(X)\n",
    "\n",
    "    return X"
   ]
  },
  {
   "cell_type": "code",
   "execution_count": 3,
   "metadata": {},
   "outputs": [],
   "source": [
    "def convolutional_block(X, f, filters, s=2, initializer=tf.keras.initializers.glorot_uniform):\n",
    "    F1, F2, F3 = filters\n",
    "    \n",
    "    X_shortcut = X\n",
    "    \n",
    "    X = tf.keras.layers.Conv2D(filters=F1, kernel_size=(1,1), strides=(s,s), padding='valid', kernel_initializer=initializer(seed=0))(X)\n",
    "    X = tf.keras.layers.BatchNormalization()(X)\n",
    "    X = tf.keras.layers.Activation('relu')(X)\n",
    "\n",
    "    X = tf.keras.layers.Conv2D(filters=F2, kernel_size=(f,f), strides=(1,1), padding='same', kernel_initializer=initializer(seed=0))(X) \n",
    "    X = tf.keras.layers.BatchNormalization()(X)\n",
    "    X = tf.keras.layers.Activation('relu')(X) \n",
    "\n",
    "    X = tf.keras.layers.Conv2D(filters=F3, kernel_size=(1,1), strides=(1,1), padding='valid', kernel_initializer=initializer(seed=0))(X) \n",
    "    X = tf.keras.layers.BatchNormalization()(X)\n",
    "    \n",
    "    X_shortcut = tf.keras.layers.Conv2D(filters=F3, kernel_size=(1,1), strides=(s,s), padding='valid', kernel_initializer=initializer(seed=0))(X_shortcut)\n",
    "    X_shortcut = tf.keras.layers.BatchNormalization()(X_shortcut)\n",
    "\n",
    "    X = tf.keras.layers.Add()([X, X_shortcut])\n",
    "    X = tf.keras.layers.Activation('relu')(X)\n",
    "    \n",
    "    return X"
   ]
  },
  {
   "cell_type": "markdown",
   "metadata": {},
   "source": [
    "##### ResNet50  "
   ]
  },
  {
   "cell_type": "markdown",
   "metadata": {},
   "source": [
    "<img src=\"../images/resnet.png\" style=\"width:850px;height:150px;\">"
   ]
  },
  {
   "cell_type": "code",
   "execution_count": 4,
   "metadata": {},
   "outputs": [],
   "source": [
    "def ResNet50(input_shape=(64, 64, 3), classes=6, training=False):\n",
    "    # Define the input as a tensor with shape input_shape\n",
    "    X_input = tf.keras.layers.Input(input_shape)\n",
    "\n",
    "    # Zero-Padding\n",
    "    X = tf.keras.layers.ZeroPadding2D((3, 3))(X_input)\n",
    "    \n",
    "    # Stage 1\n",
    "    X = tf.keras.layers.Conv2D(filters=64, kernel_size=(7, 7), strides=(2, 2), kernel_initializer=tf.keras.initializers.glorot_uniform(seed=0))(X)\n",
    "    X = tf.keras.layers.BatchNormalization(axis = 3)(X)\n",
    "    X = tf.keras.layers.Activation('relu')(X)\n",
    "    X = tf.keras.layers.MaxPooling2D(pool_size=(3, 3), strides=(2, 2))(X)\n",
    "\n",
    "    # Stage 2\n",
    "    X = convolutional_block(X, f=3, filters=[64, 64, 256], s=1)\n",
    "    X = identity_block(X, 3, [64, 64, 256])\n",
    "    X = identity_block(X, 3, [64, 64, 256])\n",
    "    \n",
    "    ## Stage 3\n",
    "    X = convolutional_block(X, f=3, filters=[128, 128, 512], s=2) \n",
    "    X = identity_block(X, 3, [128, 128, 512]) \n",
    "    X = identity_block(X, 3, [128, 128, 512])\n",
    "    X = identity_block(X, 3, [128, 128, 512])\n",
    "\n",
    "    # Stage 4\n",
    "    X = convolutional_block(X, f=3, filters=[256, 256, 1024],s=2) \n",
    "    X = identity_block(X, 3, [256, 256, 1024])\n",
    "    X = identity_block(X, 3, [256, 256, 1024])\n",
    "    X = identity_block(X, 3, [256, 256, 1024])\n",
    "    X = identity_block(X, 3, [256, 256, 1024])\n",
    "    X = identity_block(X, 3, [256, 256, 1024])\n",
    "\n",
    "    # Stage 5\n",
    "    X = convolutional_block(X, f=3, filters=[512, 512, 2048], s=2) \n",
    "    X = identity_block(X, 3, [512, 512, 2048])\n",
    "    X = identity_block(X, 3, [512, 512, 2048])\n",
    "\n",
    "    # AVGPOOL\n",
    "    X = tf.keras.layers.AveragePooling2D(pool_size=(2,2), padding='same')(X) \n",
    "\n",
    "    # output layer\n",
    "    X = tf.keras.layers.Flatten()(X)\n",
    "    X = tf.keras.layers.Dense(classes, activation='softmax', kernel_initializer=tf.keras.initializers.glorot_uniform(seed=0))(X)\n",
    "    \n",
    "    model = tf.keras.models.Model(inputs = X_input, outputs = X)\n",
    "\n",
    "    return model\n",
    "\n",
    "model = ResNet50(input_shape=(64, 64, 3), classes=6)"
   ]
  }
 ],
 "metadata": {
  "kernelspec": {
   "display_name": "Python 3",
   "language": "python",
   "name": "python3"
  },
  "language_info": {
   "codemirror_mode": {
    "name": "ipython",
    "version": 3
   },
   "file_extension": ".py",
   "mimetype": "text/x-python",
   "name": "python",
   "nbconvert_exporter": "python",
   "pygments_lexer": "ipython3",
   "version": "3.9.13"
  }
 },
 "nbformat": 4,
 "nbformat_minor": 2
}
